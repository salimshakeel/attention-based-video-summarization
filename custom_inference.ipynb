{
 "cells": [
  {
   "cell_type": "code",
   "execution_count": null,
   "id": "e39d01f8-9346-4551-8c5a-c5cc46c09164",
   "metadata": {},
   "outputs": [],
   "source": [
    "# custom_inference.py\n",
    "import torch\n",
    "import numpy as np\n",
    "from generate_summary import generate_summary\n",
    "from layers.summarizer import PGL_SUM\n",
    "import h5py\n",
    "import os\n",
    "from tqdm import tqdm\n",
    "\n",
    "def custom_inference(model, data_path, output_dir):\n",
    "    model.eval()\n",
    "    os.makedirs(output_dir, exist_ok=True)\n",
    "    \n",
    "    with h5py.File(data_path, \"r\") as hdf:\n",
    "        video_keys = list(hdf.keys())\n",
    "        for video in tqdm(video_keys, desc=\"Processing videos\"):\n",
    "            frame_features = torch.Tensor(np.array(hdf[f\"{video}/features\"])).view(-1, 1024)\n",
    "            positions = np.array(hdf[f\"{video}/picks\"])\n",
    "            n_frames = int(hdf[f\"{video}/n_frames\"][()])\n",
    "            \n",
    "            with torch.no_grad():\n",
    "                scores, _ = model(frame_features)\n",
    "                scores = scores.squeeze(0).cpu().numpy().tolist()\n",
    "                summary = generate_summary([None], [scores], [n_frames], [positions])[0]\n",
    "\n",
    "                # Save predicted summary\n",
    "                np.save(os.path.join(output_dir, f\"{video}_summary.npy\"), summary)\n",
    "\n",
    "if __name__ == \"__main__\":\n",
    "    # Config\n",
    "    DATASET_NAME = \"CustomDataset\"\n",
    "    DATASET_PATH = f\"../PGL-SUM/data/{DATASET_NAME}/custom_dataset_pool5.h5\"\n",
    "    MODEL_PATH = \"../PGL-SUM/inference/pretrained_models/table4_models/SumMe/split0/model.pth\"  # Use any pre-trained model\n",
    "    OUTPUT_DIR = f\"../PGL-SUM/Summaries/{DATASET_NAME}/\"\n",
    "\n",
    "    # Model setup\n",
    "    model = PGL_SUM(input_size=1024, output_size=1024, num_segments=4, heads=8,\n",
    "                    fusion=\"add\", pos_enc=\"absolute\")\n",
    "    model.load_state_dict(torch.load(MODEL_PATH))\n",
    "    \n",
    "    # Inference\n",
    "    custom_inference(model, DATASET_PATH, OUTPUT_DIR)\n"
   ]
  }
 ],
 "metadata": {
  "kernelspec": {
   "display_name": "Python 3 (ipykernel)",
   "language": "python",
   "name": "python3"
  },
  "language_info": {
   "codemirror_mode": {
    "name": "ipython",
    "version": 3
   },
   "file_extension": ".py",
   "mimetype": "text/x-python",
   "name": "python",
   "nbconvert_exporter": "python",
   "pygments_lexer": "ipython3",
   "version": "3.12.4"
  }
 },
 "nbformat": 4,
 "nbformat_minor": 5
}
